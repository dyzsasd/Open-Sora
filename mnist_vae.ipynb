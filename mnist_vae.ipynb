{
 "cells": [
  {
   "cell_type": "code",
   "execution_count": 6,
   "id": "71941f2c-c63f-4439-a540-e2c8848178d7",
   "metadata": {},
   "outputs": [],
   "source": [
    "from torchvision.datasets import MNIST\n",
    "from torchvision.transforms import ToTensor, Lambda, ConvertImageDtype, transforms\n",
    "from torchvision.transforms.functional import to_pil_image, to_tensor\n",
    "import matplotlib.pyplot as plt\n",
    "import torch\n",
    "import torch.nn.functional as F\n",
    "from notebook.mnist_vae.model import VAE"
   ]
  },
  {
   "cell_type": "code",
   "execution_count": 5,
   "id": "70c5acb9-6d49-4286-a2dc-e260a1ac5e9e",
   "metadata": {},
   "outputs": [
    {
     "data": {
      "text/plain": [
       "<All keys matched successfully>"
      ]
     },
     "execution_count": 5,
     "metadata": {},
     "output_type": "execute_result"
    }
   ],
   "source": [
    "vae = VAE()\n",
    "vae.load_state_dict(torch.load('notebook/mnist_vae/vae_epoch_25.pth'))"
   ]
  },
  {
   "cell_type": "code",
   "execution_count": 7,
   "id": "36096f83-b194-491d-91a8-4513dcca173c",
   "metadata": {},
   "outputs": [],
   "source": [
    "transform = transforms.Compose([\n",
    "    ToTensor(),                     # Convert image to tensor\n",
    "    transforms.Pad(2, fill=0, padding_mode='constant')  # Pad the image to get 32x32 size\n",
    "])\n",
    "\n",
    "dataset = MNIST(root='./data', download = True, transform = transform)\n",
    "\n",
    "dataset = [\n",
    "    (image.repeat(3, 1, 1), label) # repeat the gray channel for creating pseudo color image of format C, H, W\n",
    "    for image, label in dataset\n",
    "]\n",
    "\n",
    "digit_size = 32\n",
    "image_size = 64\n",
    "step_length = 0.2\n",
    "N = len(dataset)"
   ]
  },
  {
   "cell_type": "code",
   "execution_count": null,
   "id": "e045bd73-5ef3-4bd2-bf48-10b2f60c70e8",
   "metadata": {},
   "outputs": [],
   "source": []
  }
 ],
 "metadata": {
  "kernelspec": {
   "display_name": "Python 3 (ipykernel)",
   "language": "python",
   "name": "python3"
  },
  "language_info": {
   "codemirror_mode": {
    "name": "ipython",
    "version": 3
   },
   "file_extension": ".py",
   "mimetype": "text/x-python",
   "name": "python",
   "nbconvert_exporter": "python",
   "pygments_lexer": "ipython3",
   "version": "3.10.14"
  }
 },
 "nbformat": 4,
 "nbformat_minor": 5
}
