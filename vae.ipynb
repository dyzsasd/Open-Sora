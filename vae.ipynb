{
 "cells": [
  {
   "cell_type": "code",
   "execution_count": 20,
   "id": "40add269-943f-4d6c-b337-9522edbf89df",
   "metadata": {},
   "outputs": [],
   "source": [
    "# Import necessary libraries\n",
    "from torchvision.datasets import MNIST\n",
    "from torchvision.transforms import ToTensor, Lambda, ConvertImageDtype, transforms\n",
    "from torchvision.transforms.functional import to_pil_image, to_tensor\n",
    "import matplotlib.pyplot as plt\n",
    "import torch\n",
    "import torch.nn.functional as F\n",
    "\n",
    "from diffusers import AutoencoderKL\n"
   ]
  },
  {
   "cell_type": "code",
   "execution_count": 21,
   "id": "4efbe6f9-be1c-44d2-811d-28eb3999dab2",
   "metadata": {},
   "outputs": [],
   "source": [
    "transform = transforms.Compose([\n",
    "    ToTensor(),                     # Convert image to tensor\n",
    "    transforms.Pad(2, fill=0, padding_mode='constant')  # Pad the image to get 32x32 size\n",
    "])\n",
    "\n",
    "# Load and preprocess an MNIST image\n",
    "def load_and_preprocess_image(index=0):\n",
    "    # Load MNIST dataset\n",
    "    dataset = MNIST(root='./data', download = True, transform = transform)\n",
    "    # Get an image and its label\n",
    "    image, label = dataset[index]\n",
    "    # Convert image to float, replicate channels and add batch dimension (B, C, H, W)\n",
    "    image = image.repeat(3, 1, 1).unsqueeze(0)  # Repeat the grayscale channel to simulate RGB\n",
    "    return image, label"
   ]
  },
  {
   "cell_type": "code",
   "execution_count": 32,
   "id": "be241156-c127-4404-9c1b-b038810e80fb",
   "metadata": {},
   "outputs": [],
   "source": [
    "def display_images(original, reconstructed):\n",
    "    reconstructed = torch.clamp(reconstructed, 0, 1)\n",
    "\n",
    "    # Display original and reconstructed images side by side\n",
    "    fig, axs = plt.subplots(1, 2, figsize=(8, 4))\n",
    "    axs[0].imshow(original.squeeze(), cmap='gray')\n",
    "    axs[0].set_title(\"Original Image\")\n",
    "    axs[0].axis('off')\n",
    "    axs[1].imshow(reconstructed.squeeze(), cmap='gray')\n",
    "    axs[1].set_title(\"Reconstructed Image\")\n",
    "    axs[1].axis('off')\n",
    "    plt.show()"
   ]
  },
  {
   "cell_type": "code",
   "execution_count": 23,
   "id": "f3f44b91-fc96-4dd8-889d-8dd896d54fcd",
   "metadata": {},
   "outputs": [],
   "source": [
    "# Load the VAE model\n",
    "model_id = \"stabilityai/sd-vae-ft-ema\"\n",
    "vae = AutoencoderKL.from_pretrained(model_id)"
   ]
  },
  {
   "cell_type": "code",
   "execution_count": 24,
   "id": "f041be4f-eaac-488d-9cd2-644ca25ba59f",
   "metadata": {},
   "outputs": [
    {
     "name": "stdout",
     "output_type": "stream",
     "text": [
      "2\n"
     ]
    },
    {
     "data": {
      "text/plain": [
       "<matplotlib.image.AxesImage at 0x7fb649677fd0>"
      ]
     },
     "execution_count": 24,
     "metadata": {},
     "output_type": "execute_result"
    },
    {
     "data": {
      "image/png": "[encoded data removed]",
      "text/plain": [
       "<Figure size 640x480 with 1 Axes>"
      ]
     },
     "metadata": {},
     "output_type": "display_data"
    }
   ],
   "source": [
    "# Load and preprocess an MNIST image\n",
    "image, label = load_and_preprocess_image(index=5)  # You can change the index to see different digits\n",
    "print(label)\n",
    "plt.imshow(image[0][0], cmap='gray')"
   ]
  },
  {
   "cell_type": "code",
   "execution_count": 33,
   "id": "35f13557-7120-422f-a223-865df99d115c",
   "metadata": {},
   "outputs": [
    {
     "data": {
      "image/png": "[encoded data removed]",
      "text/plain": [
       "<Figure size 800x400 with 2 Axes>"
      ]
     },
     "metadata": {},
     "output_type": "display_data"
    }
   ],
   "source": [
    " with torch.no_grad():\n",
    "    latent_output = vae.encode(image)\n",
    "    latent = latent_output.latent_dist.mean  # Using the mean as the latent representation\n",
    "\n",
    "    # Decode the latent representation\n",
    "    reconstructed_output = vae.decode(latent)\n",
    "    reconstructed_image = reconstructed_output.sample\n",
    "\n",
    "\n",
    "# Display the original and reconstructed images\n",
    "display_images(image[0][0], reconstructed_image[0][0])\n"
   ]
  },
  {
   "cell_type": "code",
   "execution_count": 35,
   "id": "fad5f2d3-c9ff-41dd-99fd-07eaeaaab352",
   "metadata": {},
   "outputs": [
    {
     "data": {
      "text/plain": [
       "tensor(-0.6164)"
      ]
     },
     "execution_count": 35,
     "metadata": {},
     "output_type": "execute_result"
    }
   ],
   "source": [
    "reconstructed_image[0].min()"
   ]
  },
  {
   "cell_type": "code",
   "execution_count": 3,
   "id": "b9978e0b-c6f6-405b-8fb8-d14ea80efb87",
   "metadata": {},
   "outputs": [],
   "source": [
    "import torch\n",
    "\n",
    "embeddings = torch.eye(10).to('cpu')"
   ]
  },
  {
   "cell_type": "code",
   "execution_count": 15,
   "id": "2dc640a0-8c9f-4c19-bf48-fad7cfe55c4f",
   "metadata": {},
   "outputs": [
    {
     "data": {
      "text/plain": [
       "tensor([[1],\n",
       "        [1]])"
      ]
     },
     "execution_count": 15,
     "metadata": {},
     "output_type": "execute_result"
    }
   ],
   "source": [
    "torch.ones((2, 1), dtype=int)"
   ]
  }
 ],
 "metadata": {
  "kernelspec": {
   "display_name": "Python 3 (ipykernel)",
   "language": "python",
   "name": "python3"
  },
  "language_info": {
   "codemirror_mode": {
    "name": "ipython",
    "version": 3
   },
   "file_extension": ".py",
   "mimetype": "text/x-python",
   "name": "python",
   "nbconvert_exporter": "python",
   "pygments_lexer": "ipython3",
   "version": "3.10.14"
  }
 },
 "nbformat": 4,
 "nbformat_minor": 5
}
